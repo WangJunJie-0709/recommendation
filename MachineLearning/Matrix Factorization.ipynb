{
 "cells": [
  {
   "cell_type": "code",
   "execution_count": 7,
   "metadata": {
    "collapsed": true
   },
   "outputs": [],
   "source": [
    "import pandas as pd\n",
    "import numpy as np\n",
    "import sys\n",
    "import os\n",
    "sys.path.append(os.path.abspath(os.path.join(os.path.dirname('Matrix Factorization.ipynb'), '..')))\n",
    "from ReadData.DatePreProcess import read_df, user_df_preprocess, item_df_preprocess"
   ]
  },
  {
   "cell_type": "code",
   "execution_count": 8,
   "outputs": [
    {
     "name": "stdout",
     "output_type": "stream",
     "text": [
      "           user_id    item_id  behavior_type user_geohash  item_category  \\\n",
      "0         77404236  306224045              1          NaN           9023   \n",
      "1         77404236  321344925              4          NaN           3424   \n",
      "2         77404236  393135256              1          NaN          11623   \n",
      "3         77404236  277463747              1          NaN            451   \n",
      "4         77404236   38563179              1          NaN           8432   \n",
      "...            ...        ...            ...          ...            ...   \n",
      "9999996   38808485  381068277              1          NaN           3472   \n",
      "9999997   38808485  115090178              1      99chnhs           2517   \n",
      "9999998   38808485    1518660              1          NaN          13980   \n",
      "9999999   38808485  364737191              1          NaN           9559   \n",
      "10000000  38808485   38765922              1          NaN           3472   \n",
      "\n",
      "                   time        date  hr  \n",
      "0         2014-11-24 19  2014-11-24  19  \n",
      "1         2014-11-25 20  2014-11-25  20  \n",
      "2         2014-12-06 23  2014-12-06  23  \n",
      "3         2014-12-17 20  2014-12-17  20  \n",
      "4         2014-12-17 17  2014-12-17  17  \n",
      "...                 ...         ...  ..  \n",
      "9999996   2014-12-04 19  2014-12-04  19  \n",
      "9999997   2014-12-09 20  2014-12-09  20  \n",
      "9999998   2014-12-17 14  2014-12-17  14  \n",
      "9999999   2014-12-05 20  2014-12-05  20  \n",
      "10000000  2014-12-04 20  2014-12-04  20  \n",
      "\n",
      "[10000001 rows x 8 columns]\n"
     ]
    }
   ],
   "source": [
    "user_src_name = '../tianchi_fresh_comp_train_user_online.csv'\n",
    "user_df = read_df(user_src_name, type='user')\n",
    "print(user_df)"
   ],
   "metadata": {
    "collapsed": false,
    "pycharm": {
     "name": "#%%\n"
    }
   }
  },
  {
   "cell_type": "code",
   "execution_count": null,
   "outputs": [],
   "source": [],
   "metadata": {
    "collapsed": false,
    "pycharm": {
     "name": "#%%\n"
    }
   }
  }
 ],
 "metadata": {
  "kernelspec": {
   "display_name": "recommendation",
   "language": "python",
   "name": "recommendation"
  },
  "language_info": {
   "codemirror_mode": {
    "name": "ipython",
    "version": 2
   },
   "file_extension": ".py",
   "mimetype": "text/x-python",
   "name": "python",
   "nbconvert_exporter": "python",
   "pygments_lexer": "ipython2",
   "version": "2.7.6"
  }
 },
 "nbformat": 4,
 "nbformat_minor": 0
}