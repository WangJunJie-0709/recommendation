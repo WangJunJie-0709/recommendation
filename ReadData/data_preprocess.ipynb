{
 "cells": [
  {
   "cell_type": "code",
   "execution_count": 1,
   "metadata": {
    "collapsed": true,
    "ExecuteTime": {
     "end_time": "2024-06-03T06:45:20.588352100Z",
     "start_time": "2024-06-03T06:45:17.634003300Z"
    }
   },
   "outputs": [],
   "source": [
    "import pandas as pd"
   ]
  },
  {
   "cell_type": "code",
   "execution_count": 2,
   "outputs": [],
   "source": [
    "def read_data_from_csv(src_name):\n",
    "    df = pd.read_csv(src_name)\n",
    "    return df"
   ],
   "metadata": {
    "collapsed": false,
    "pycharm": {
     "name": "#%%\n"
    },
    "ExecuteTime": {
     "end_time": "2024-06-03T06:45:24.533175400Z",
     "start_time": "2024-06-03T06:45:24.507209600Z"
    }
   }
  },
  {
   "cell_type": "code",
   "execution_count": 3,
   "outputs": [],
   "source": [
    "item_src_name = '../tianchi_fresh_comp_train_item_online.csv'\n",
    "item_df = read_data_from_csv(item_src_name)"
   ],
   "metadata": {
    "collapsed": false,
    "pycharm": {
     "name": "#%%\n"
    },
    "ExecuteTime": {
     "end_time": "2024-06-03T06:45:28.111827200Z",
     "start_time": "2024-06-03T06:45:26.342105900Z"
    }
   }
  },
  {
   "cell_type": "code",
   "execution_count": 4,
   "outputs": [
    {
     "data": {
      "text/plain": "           item_id item_geohash  item_category\n0        100014006          NaN           3064\n1        100030948          NaN          10544\n2        100037683          NaN          12067\n3        100039010          NaN          10501\n4        100040963          NaN           3960\n...            ...          ...            ...\n4999996  139588608          NaN          11406\n4999997   13958902          NaN          10179\n4999998  139591826          NaN           8561\n4999999  139595801          NaN           8270\n5000000  139596319          NaN           2252\n\n[5000001 rows x 3 columns]",
      "text/html": "<div>\n<style scoped>\n    .dataframe tbody tr th:only-of-type {\n        vertical-align: middle;\n    }\n\n    .dataframe tbody tr th {\n        vertical-align: top;\n    }\n\n    .dataframe thead th {\n        text-align: right;\n    }\n</style>\n<table border=\"1\" class=\"dataframe\">\n  <thead>\n    <tr style=\"text-align: right;\">\n      <th></th>\n      <th>item_id</th>\n      <th>item_geohash</th>\n      <th>item_category</th>\n    </tr>\n  </thead>\n  <tbody>\n    <tr>\n      <th>0</th>\n      <td>100014006</td>\n      <td>NaN</td>\n      <td>3064</td>\n    </tr>\n    <tr>\n      <th>1</th>\n      <td>100030948</td>\n      <td>NaN</td>\n      <td>10544</td>\n    </tr>\n    <tr>\n      <th>2</th>\n      <td>100037683</td>\n      <td>NaN</td>\n      <td>12067</td>\n    </tr>\n    <tr>\n      <th>3</th>\n      <td>100039010</td>\n      <td>NaN</td>\n      <td>10501</td>\n    </tr>\n    <tr>\n      <th>4</th>\n      <td>100040963</td>\n      <td>NaN</td>\n      <td>3960</td>\n    </tr>\n    <tr>\n      <th>...</th>\n      <td>...</td>\n      <td>...</td>\n      <td>...</td>\n    </tr>\n    <tr>\n      <th>4999996</th>\n      <td>139588608</td>\n      <td>NaN</td>\n      <td>11406</td>\n    </tr>\n    <tr>\n      <th>4999997</th>\n      <td>13958902</td>\n      <td>NaN</td>\n      <td>10179</td>\n    </tr>\n    <tr>\n      <th>4999998</th>\n      <td>139591826</td>\n      <td>NaN</td>\n      <td>8561</td>\n    </tr>\n    <tr>\n      <th>4999999</th>\n      <td>139595801</td>\n      <td>NaN</td>\n      <td>8270</td>\n    </tr>\n    <tr>\n      <th>5000000</th>\n      <td>139596319</td>\n      <td>NaN</td>\n      <td>2252</td>\n    </tr>\n  </tbody>\n</table>\n<p>5000001 rows × 3 columns</p>\n</div>"
     },
     "execution_count": 4,
     "metadata": {},
     "output_type": "execute_result"
    }
   ],
   "source": [
    "item_df"
   ],
   "metadata": {
    "collapsed": false,
    "pycharm": {
     "name": "#%%\n"
    },
    "ExecuteTime": {
     "end_time": "2024-06-03T06:45:29.459546500Z",
     "start_time": "2024-06-03T06:45:29.401541100Z"
    }
   }
  },
  {
   "cell_type": "code",
   "execution_count": 5,
   "outputs": [],
   "source": [
    "user_src_name = '../tianchi_fresh_comp_train_user_online.csv'\n",
    "user_df = read_data_from_csv(user_src_name)"
   ],
   "metadata": {
    "collapsed": false,
    "pycharm": {
     "name": "#%%\n"
    }
   }
  },
  {
   "cell_type": "code",
   "execution_count": 6,
   "outputs": [
    {
     "data": {
      "text/plain": "         user_id    item_id  behavior_type user_geohash  item_category  \\\n0       77404236  306224045              1          NaN           9023   \n1       77404236  321344925              4          NaN           3424   \n2       77404236  393135256              1          NaN          11623   \n3       77404236  277463747              1          NaN            451   \n4       77404236   38563179              1          NaN           8432   \n...          ...        ...            ...          ...            ...   \n99996   78598518  242255272              1          NaN           1370   \n99997   78598518  242255272              1          NaN           1370   \n99998   78598518  386374279              1          NaN          11623   \n99999   78598518  192057635              4          NaN          10507   \n100000  78598518  336702901              3          NaN           2901   \n\n                 time  \n0       2014-11-24 19  \n1       2014-11-25 20  \n2       2014-12-06 23  \n3       2014-12-17 20  \n4       2014-12-17 17  \n...               ...  \n99996   2014-12-06 13  \n99997   2014-12-03 08  \n99998   2014-12-16 15  \n99999   2014-12-02 16  \n100000  2014-12-02 11  \n\n[100001 rows x 6 columns]",
      "text/html": "<div>\n<style scoped>\n    .dataframe tbody tr th:only-of-type {\n        vertical-align: middle;\n    }\n\n    .dataframe tbody tr th {\n        vertical-align: top;\n    }\n\n    .dataframe thead th {\n        text-align: right;\n    }\n</style>\n<table border=\"1\" class=\"dataframe\">\n  <thead>\n    <tr style=\"text-align: right;\">\n      <th></th>\n      <th>user_id</th>\n      <th>item_id</th>\n      <th>behavior_type</th>\n      <th>user_geohash</th>\n      <th>item_category</th>\n      <th>time</th>\n    </tr>\n  </thead>\n  <tbody>\n    <tr>\n      <th>0</th>\n      <td>77404236</td>\n      <td>306224045</td>\n      <td>1</td>\n      <td>NaN</td>\n      <td>9023</td>\n      <td>2014-11-24 19</td>\n    </tr>\n    <tr>\n      <th>1</th>\n      <td>77404236</td>\n      <td>321344925</td>\n      <td>4</td>\n      <td>NaN</td>\n      <td>3424</td>\n      <td>2014-11-25 20</td>\n    </tr>\n    <tr>\n      <th>2</th>\n      <td>77404236</td>\n      <td>393135256</td>\n      <td>1</td>\n      <td>NaN</td>\n      <td>11623</td>\n      <td>2014-12-06 23</td>\n    </tr>\n    <tr>\n      <th>3</th>\n      <td>77404236</td>\n      <td>277463747</td>\n      <td>1</td>\n      <td>NaN</td>\n      <td>451</td>\n      <td>2014-12-17 20</td>\n    </tr>\n    <tr>\n      <th>4</th>\n      <td>77404236</td>\n      <td>38563179</td>\n      <td>1</td>\n      <td>NaN</td>\n      <td>8432</td>\n      <td>2014-12-17 17</td>\n    </tr>\n    <tr>\n      <th>...</th>\n      <td>...</td>\n      <td>...</td>\n      <td>...</td>\n      <td>...</td>\n      <td>...</td>\n      <td>...</td>\n    </tr>\n    <tr>\n      <th>99996</th>\n      <td>78598518</td>\n      <td>242255272</td>\n      <td>1</td>\n      <td>NaN</td>\n      <td>1370</td>\n      <td>2014-12-06 13</td>\n    </tr>\n    <tr>\n      <th>99997</th>\n      <td>78598518</td>\n      <td>242255272</td>\n      <td>1</td>\n      <td>NaN</td>\n      <td>1370</td>\n      <td>2014-12-03 08</td>\n    </tr>\n    <tr>\n      <th>99998</th>\n      <td>78598518</td>\n      <td>386374279</td>\n      <td>1</td>\n      <td>NaN</td>\n      <td>11623</td>\n      <td>2014-12-16 15</td>\n    </tr>\n    <tr>\n      <th>99999</th>\n      <td>78598518</td>\n      <td>192057635</td>\n      <td>4</td>\n      <td>NaN</td>\n      <td>10507</td>\n      <td>2014-12-02 16</td>\n    </tr>\n    <tr>\n      <th>100000</th>\n      <td>78598518</td>\n      <td>336702901</td>\n      <td>3</td>\n      <td>NaN</td>\n      <td>2901</td>\n      <td>2014-12-02 11</td>\n    </tr>\n  </tbody>\n</table>\n<p>100001 rows × 6 columns</p>\n</div>"
     },
     "execution_count": 6,
     "metadata": {},
     "output_type": "execute_result"
    }
   ],
   "source": [
    "user_df"
   ],
   "metadata": {
    "collapsed": false,
    "pycharm": {
     "name": "#%%\n"
    }
   }
  },
  {
   "cell_type": "code",
   "execution_count": 8,
   "outputs": [
    {
     "data": {
      "text/plain": "         user_id    item_id  behavior_type user_geohash  item_category  \\\n0       77404236  306224045              1          NaN           9023   \n1       77404236  321344925              4          NaN           3424   \n2       77404236  393135256              1          NaN          11623   \n3       77404236  277463747              1          NaN            451   \n4       77404236   38563179              1          NaN           8432   \n...          ...        ...            ...          ...            ...   \n99996   78598518  242255272              1          NaN           1370   \n99997   78598518  242255272              1          NaN           1370   \n99998   78598518  386374279              1          NaN          11623   \n99999   78598518  192057635              4          NaN          10507   \n100000  78598518  336702901              3          NaN           2901   \n\n                 time        date  hr  \n0       2014-11-24 19  2014-11-24  19  \n1       2014-11-25 20  2014-11-25  20  \n2       2014-12-06 23  2014-12-06  23  \n3       2014-12-17 20  2014-12-17  20  \n4       2014-12-17 17  2014-12-17  17  \n...               ...         ...  ..  \n99996   2014-12-06 13  2014-12-06  13  \n99997   2014-12-03 08  2014-12-03  08  \n99998   2014-12-16 15  2014-12-16  15  \n99999   2014-12-02 16  2014-12-02  16  \n100000  2014-12-02 11  2014-12-02  11  \n\n[100001 rows x 8 columns]",
      "text/html": "<div>\n<style scoped>\n    .dataframe tbody tr th:only-of-type {\n        vertical-align: middle;\n    }\n\n    .dataframe tbody tr th {\n        vertical-align: top;\n    }\n\n    .dataframe thead th {\n        text-align: right;\n    }\n</style>\n<table border=\"1\" class=\"dataframe\">\n  <thead>\n    <tr style=\"text-align: right;\">\n      <th></th>\n      <th>user_id</th>\n      <th>item_id</th>\n      <th>behavior_type</th>\n      <th>user_geohash</th>\n      <th>item_category</th>\n      <th>time</th>\n      <th>date</th>\n      <th>hr</th>\n    </tr>\n  </thead>\n  <tbody>\n    <tr>\n      <th>0</th>\n      <td>77404236</td>\n      <td>306224045</td>\n      <td>1</td>\n      <td>NaN</td>\n      <td>9023</td>\n      <td>2014-11-24 19</td>\n      <td>2014-11-24</td>\n      <td>19</td>\n    </tr>\n    <tr>\n      <th>1</th>\n      <td>77404236</td>\n      <td>321344925</td>\n      <td>4</td>\n      <td>NaN</td>\n      <td>3424</td>\n      <td>2014-11-25 20</td>\n      <td>2014-11-25</td>\n      <td>20</td>\n    </tr>\n    <tr>\n      <th>2</th>\n      <td>77404236</td>\n      <td>393135256</td>\n      <td>1</td>\n      <td>NaN</td>\n      <td>11623</td>\n      <td>2014-12-06 23</td>\n      <td>2014-12-06</td>\n      <td>23</td>\n    </tr>\n    <tr>\n      <th>3</th>\n      <td>77404236</td>\n      <td>277463747</td>\n      <td>1</td>\n      <td>NaN</td>\n      <td>451</td>\n      <td>2014-12-17 20</td>\n      <td>2014-12-17</td>\n      <td>20</td>\n    </tr>\n    <tr>\n      <th>4</th>\n      <td>77404236</td>\n      <td>38563179</td>\n      <td>1</td>\n      <td>NaN</td>\n      <td>8432</td>\n      <td>2014-12-17 17</td>\n      <td>2014-12-17</td>\n      <td>17</td>\n    </tr>\n    <tr>\n      <th>...</th>\n      <td>...</td>\n      <td>...</td>\n      <td>...</td>\n      <td>...</td>\n      <td>...</td>\n      <td>...</td>\n      <td>...</td>\n      <td>...</td>\n    </tr>\n    <tr>\n      <th>99996</th>\n      <td>78598518</td>\n      <td>242255272</td>\n      <td>1</td>\n      <td>NaN</td>\n      <td>1370</td>\n      <td>2014-12-06 13</td>\n      <td>2014-12-06</td>\n      <td>13</td>\n    </tr>\n    <tr>\n      <th>99997</th>\n      <td>78598518</td>\n      <td>242255272</td>\n      <td>1</td>\n      <td>NaN</td>\n      <td>1370</td>\n      <td>2014-12-03 08</td>\n      <td>2014-12-03</td>\n      <td>08</td>\n    </tr>\n    <tr>\n      <th>99998</th>\n      <td>78598518</td>\n      <td>386374279</td>\n      <td>1</td>\n      <td>NaN</td>\n      <td>11623</td>\n      <td>2014-12-16 15</td>\n      <td>2014-12-16</td>\n      <td>15</td>\n    </tr>\n    <tr>\n      <th>99999</th>\n      <td>78598518</td>\n      <td>192057635</td>\n      <td>4</td>\n      <td>NaN</td>\n      <td>10507</td>\n      <td>2014-12-02 16</td>\n      <td>2014-12-02</td>\n      <td>16</td>\n    </tr>\n    <tr>\n      <th>100000</th>\n      <td>78598518</td>\n      <td>336702901</td>\n      <td>3</td>\n      <td>NaN</td>\n      <td>2901</td>\n      <td>2014-12-02 11</td>\n      <td>2014-12-02</td>\n      <td>11</td>\n    </tr>\n  </tbody>\n</table>\n<p>100001 rows × 8 columns</p>\n</div>"
     },
     "execution_count": 8,
     "metadata": {},
     "output_type": "execute_result"
    }
   ],
   "source": [
    "user_df[['date', 'hr']] = user_df['time'].str.split(' ', expand=True)\n",
    "user_df"
   ],
   "metadata": {
    "collapsed": false,
    "pycharm": {
     "name": "#%%\n"
    }
   }
  },
  {
   "cell_type": "code",
   "execution_count": 9,
   "outputs": [],
   "source": [
    "user_df = user_df.drop(columns='time')"
   ],
   "metadata": {
    "collapsed": false,
    "pycharm": {
     "name": "#%%\n"
    }
   }
  },
  {
   "cell_type": "code",
   "execution_count": 10,
   "outputs": [
    {
     "data": {
      "text/plain": "         user_id    item_id  behavior_type user_geohash  item_category  \\\n0       77404236  306224045              1          NaN           9023   \n1       77404236  321344925              4          NaN           3424   \n2       77404236  393135256              1          NaN          11623   \n3       77404236  277463747              1          NaN            451   \n4       77404236   38563179              1          NaN           8432   \n...          ...        ...            ...          ...            ...   \n99996   78598518  242255272              1          NaN           1370   \n99997   78598518  242255272              1          NaN           1370   \n99998   78598518  386374279              1          NaN          11623   \n99999   78598518  192057635              4          NaN          10507   \n100000  78598518  336702901              3          NaN           2901   \n\n              date  hr  \n0       2014-11-24  19  \n1       2014-11-25  20  \n2       2014-12-06  23  \n3       2014-12-17  20  \n4       2014-12-17  17  \n...            ...  ..  \n99996   2014-12-06  13  \n99997   2014-12-03  08  \n99998   2014-12-16  15  \n99999   2014-12-02  16  \n100000  2014-12-02  11  \n\n[100001 rows x 7 columns]",
      "text/html": "<div>\n<style scoped>\n    .dataframe tbody tr th:only-of-type {\n        vertical-align: middle;\n    }\n\n    .dataframe tbody tr th {\n        vertical-align: top;\n    }\n\n    .dataframe thead th {\n        text-align: right;\n    }\n</style>\n<table border=\"1\" class=\"dataframe\">\n  <thead>\n    <tr style=\"text-align: right;\">\n      <th></th>\n      <th>user_id</th>\n      <th>item_id</th>\n      <th>behavior_type</th>\n      <th>user_geohash</th>\n      <th>item_category</th>\n      <th>date</th>\n      <th>hr</th>\n    </tr>\n  </thead>\n  <tbody>\n    <tr>\n      <th>0</th>\n      <td>77404236</td>\n      <td>306224045</td>\n      <td>1</td>\n      <td>NaN</td>\n      <td>9023</td>\n      <td>2014-11-24</td>\n      <td>19</td>\n    </tr>\n    <tr>\n      <th>1</th>\n      <td>77404236</td>\n      <td>321344925</td>\n      <td>4</td>\n      <td>NaN</td>\n      <td>3424</td>\n      <td>2014-11-25</td>\n      <td>20</td>\n    </tr>\n    <tr>\n      <th>2</th>\n      <td>77404236</td>\n      <td>393135256</td>\n      <td>1</td>\n      <td>NaN</td>\n      <td>11623</td>\n      <td>2014-12-06</td>\n      <td>23</td>\n    </tr>\n    <tr>\n      <th>3</th>\n      <td>77404236</td>\n      <td>277463747</td>\n      <td>1</td>\n      <td>NaN</td>\n      <td>451</td>\n      <td>2014-12-17</td>\n      <td>20</td>\n    </tr>\n    <tr>\n      <th>4</th>\n      <td>77404236</td>\n      <td>38563179</td>\n      <td>1</td>\n      <td>NaN</td>\n      <td>8432</td>\n      <td>2014-12-17</td>\n      <td>17</td>\n    </tr>\n    <tr>\n      <th>...</th>\n      <td>...</td>\n      <td>...</td>\n      <td>...</td>\n      <td>...</td>\n      <td>...</td>\n      <td>...</td>\n      <td>...</td>\n    </tr>\n    <tr>\n      <th>99996</th>\n      <td>78598518</td>\n      <td>242255272</td>\n      <td>1</td>\n      <td>NaN</td>\n      <td>1370</td>\n      <td>2014-12-06</td>\n      <td>13</td>\n    </tr>\n    <tr>\n      <th>99997</th>\n      <td>78598518</td>\n      <td>242255272</td>\n      <td>1</td>\n      <td>NaN</td>\n      <td>1370</td>\n      <td>2014-12-03</td>\n      <td>08</td>\n    </tr>\n    <tr>\n      <th>99998</th>\n      <td>78598518</td>\n      <td>386374279</td>\n      <td>1</td>\n      <td>NaN</td>\n      <td>11623</td>\n      <td>2014-12-16</td>\n      <td>15</td>\n    </tr>\n    <tr>\n      <th>99999</th>\n      <td>78598518</td>\n      <td>192057635</td>\n      <td>4</td>\n      <td>NaN</td>\n      <td>10507</td>\n      <td>2014-12-02</td>\n      <td>16</td>\n    </tr>\n    <tr>\n      <th>100000</th>\n      <td>78598518</td>\n      <td>336702901</td>\n      <td>3</td>\n      <td>NaN</td>\n      <td>2901</td>\n      <td>2014-12-02</td>\n      <td>11</td>\n    </tr>\n  </tbody>\n</table>\n<p>100001 rows × 7 columns</p>\n</div>"
     },
     "execution_count": 10,
     "metadata": {},
     "output_type": "execute_result"
    }
   ],
   "source": [
    "user_df"
   ],
   "metadata": {
    "collapsed": false,
    "pycharm": {
     "name": "#%%\n"
    }
   }
  },
  {
   "cell_type": "code",
   "execution_count": null,
   "outputs": [],
   "source": [],
   "metadata": {
    "collapsed": false,
    "pycharm": {
     "name": "#%%\n"
    }
   }
  }
 ],
 "metadata": {
  "kernelspec": {
   "name": "python3",
   "language": "python",
   "display_name": "Python 3 (ipykernel)"
  },
  "language_info": {
   "codemirror_mode": {
    "name": "ipython",
    "version": 2
   },
   "file_extension": ".py",
   "mimetype": "text/x-python",
   "name": "python",
   "nbconvert_exporter": "python",
   "pygments_lexer": "ipython2",
   "version": "2.7.6"
  }
 },
 "nbformat": 4,
 "nbformat_minor": 0
}